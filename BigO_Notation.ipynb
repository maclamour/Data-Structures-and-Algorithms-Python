{
 "cells": [
  {
   "cell_type": "markdown",
   "metadata": {},
   "source": [
    "Complexity Analysis\n",
    "\n",
    "Time complexity: How much time does it take to run completley; Algorithm runs fast,\n",
    "better time complexity\n",
    "Space complexity: How much extra space does it require in the process; algorithm takes less\n",
    "space, better space complexity\n",
    "\n",
    "Big factors are is it readable and scalable"
   ]
  },
  {
   "cell_type": "markdown",
   "metadata": {},
   "source": [
    "Big O is required to give a performance rating to our program for space and time"
   ]
  },
  {
   "cell_type": "markdown",
   "metadata": {},
   "source": [
    "Big O is not dependent on time, it depends on how many steps we are performing. The main focus is to calculate the amount of work we do or the number of comparisons we perform"
   ]
  },
  {
   "cell_type": "markdown",
   "metadata": {},
   "source": [
    "Big(0)n- linear time"
   ]
  },
  {
   "cell_type": "code",
   "execution_count": null,
   "metadata": {},
   "outputs": [],
   "source": [
    "student_list1 = ['tim', 'rod', 'mack', 'jp', 'taylor']\n",
    "student_list2 = ['hazel','vicky','alyssa']\n",
    "\n",
    "def checkStudent(student_list1):\n",
    "    for student in student_list1:\n",
    "        if student == 'taylor':\n",
    "            print ('Available ')\n",
    "\n",
    "\n",
    "checkStudent(student_list1)\n",
    "\n",
    "\n",
    "def checkStudent(student_list2):\n",
    "    for student in student_list2:\n",
    "        if student == 'taylor':\n",
    "            print ('Available ')\n",
    "\n",
    "        else:\n",
    "            print ('Unavailable')\n",
    "            break\n",
    "\n",
    "\n",
    "checkStudent(student_list2)\n"
   ]
  },
  {
   "cell_type": "markdown",
   "metadata": {},
   "source": [
    "Big(O)1 - constant time"
   ]
  },
  {
   "cell_type": "code",
   "execution_count": null,
   "metadata": {},
   "outputs": [],
   "source": [
    "student_list = ['drew', 'teddy','jr', 'mario', 'liz', 'hayley','emmy','drake','chris']\n",
    "\n",
    "def displayStudent(student_list):\n",
    "    print (student_list[8]) #O(1)\n",
    "    print (student_list[3]) #O(1)\n",
    "\n",
    "\n",
    "displayStudent(student_list)#O(1)"
   ]
  },
  {
   "cell_type": "markdown",
   "metadata": {},
   "source": [
    "Counting Operations"
   ]
  },
  {
   "cell_type": "code",
   "execution_count": null,
   "metadata": {},
   "outputs": [],
   "source": [
    "students = ['drew', 'teddy','jr', 'mario', 'liz', 'hayley','emmy','drake','chris'] #O(1)\n",
    "\n",
    "def randomFunction(students):\n",
    "    first = students[0] #O(1)\n",
    "    total = 0 #O(1)\n",
    "    new_list = [] #O(1)\n",
    "    \n",
    "\n",
    "    for student in students: \n",
    "        total += 1 #O(n)\n",
    "        new_list.append(students) #O(n)\n",
    "    \n",
    "    print(new_list) #O(1)\n",
    "    return total #O(1)\n",
    "\n",
    "print(randomFunction(students)) #O(6 +2n) => O(n)\n",
    "\n"
   ]
  },
  {
   "cell_type": "markdown",
   "metadata": {},
   "source": [
    "Simplifying of Big O- Part 1\n",
    "Rule 1: Focus on Scalability\n",
    "Rule 2: Considering Worst Case Scenario\n",
    "Rule 3: Remove all possible constants\n",
    "Rule 4: Consider different variables for different inputs\n",
    "Rule 5: Remove all non-dominants\n"
   ]
  },
  {
   "cell_type": "markdown",
   "metadata": {},
   "source": [
    "Big O(n^2) Complexity - Quadratic Time "
   ]
  },
  {
   "cell_type": "code",
   "execution_count": null,
   "metadata": {},
   "outputs": [],
   "source": [
    "num_list = [1,2,3,4,5,6,7]\n",
    "\n",
    "def randomFunction(num_list):\n",
    "    total = 0 \n",
    "\n",
    "    for num1 in num_list:\n",
    "        for num2 in num_list:\n",
    "            print(num1, num2)\n",
    "            total += 1\n",
    "\n",
    "    return total \n",
    "\n",
    "print(randomFunction(num_list))"
   ]
  },
  {
   "cell_type": "code",
   "execution_count": null,
   "metadata": {},
   "outputs": [],
   "source": [
    "num_list = [1,2,3,4,5,6,7]\n",
    "num_list2 = [5,6,7,8,9]\n",
    "\n",
    "def randomFunction(num_list):\n",
    "    total = 0 \n",
    "\n",
    "    for num1 in num_list2:\n",
    "        for num2 in num_list:\n",
    "            print(num1, num2)\n",
    "            total += 1\n",
    "\n",
    "    return total \n",
    "\n",
    "print(randomFunction(num_list))"
   ]
  },
  {
   "cell_type": "markdown",
   "metadata": {},
   "source": [
    "Simplifying of Big O- Part 2"
   ]
  },
  {
   "cell_type": "code",
   "execution_count": null,
   "metadata": {},
   "outputs": [],
   "source": [
    "num_list = [1,2,3,4,5,6,7]\n",
    "\n",
    "def randomFunction(num_list):\n",
    "    total = 0 #O(1)\n",
    "    all_integer = True #O(1)\n",
    "\n",
    "    for num in num_list:\n",
    "        print(num) #O(n)\n",
    "\n",
    "    for num in num_list:\n",
    "        for num2 in num_list:\n",
    "            print(num1, num2) #O(n^2)\n",
    "            total += 1 #O(n^2)\n",
    "\n",
    "    msg = \"Rule 5 - Remove all non-dominants\" #O(1)\n",
    "    return total #O(1)\n",
    "\n",
    "print(randomFunction(num_list)) #O(4 + n + 2n^2) => O(n^2)"
   ]
  },
  {
   "cell_type": "markdown",
   "metadata": {},
   "source": [
    "Big O(n!) Complexity "
   ]
  },
  {
   "cell_type": "code",
   "execution_count": null,
   "metadata": {},
   "outputs": [],
   "source": [
    " "
   ]
  }
 ],
 "metadata": {
  "kernelspec": {
   "display_name": "Python 3.10.6 64-bit",
   "language": "python",
   "name": "python3"
  },
  "language_info": {
   "codemirror_mode": {
    "name": "ipython",
    "version": 3
   },
   "file_extension": ".py",
   "mimetype": "text/x-python",
   "name": "python",
   "nbconvert_exporter": "python",
   "pygments_lexer": "ipython3",
   "version": "3.10.6"
  },
  "orig_nbformat": 4,
  "vscode": {
   "interpreter": {
    "hash": "aee8b7b246df8f9039afb4144a1f6fd8d2ca17a180786b69acc140d282b71a49"
   }
  }
 },
 "nbformat": 4,
 "nbformat_minor": 2
}
