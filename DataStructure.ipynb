{
 "cells": [
  {
   "cell_type": "markdown",
   "metadata": {},
   "source": [
    "<strong>Data Structure</strong>\n",
    "<hr>\n",
    "\n",
    "A data structure is a particular was of organizing data in a computer so that it can be used efficiently  \n",
    "\n",
    "<ol>\n",
    "<li>Insert</li>\n",
    "<li>Delete</li>\n",
    "<li>Update (Modification)</li>\n",
    "<li>Retrieve (Access)</li>\n",
    "<li>Search</li>\n",
    "<li>Sort</li>\n",
    "</ol>\n",
    "\n",
    "Data Structure's are split into two categories:\n",
    "\n",
    "<p> Primitive -(predefined way of storing data)</p>\n",
    "<ol>\n",
    "<li>Integers</li>\n",
    "<li>Float</li>\n",
    "<li>Characters</li>\n",
    "<li>Pointers</li>\n",
    "</ol>\n",
    "\n",
    "<p>Non-Primitive -(user-defined way of storing data)</p>\n",
    "<ol>\n",
    "<li>Linear (Sequential)</li>\n",
    "<ol>\n",
    "<li>Array</li>\n",
    "<li>Stacks</li>\n",
    "<li>Queue</li>\n",
    "<li>Linked List</li>\n",
    "</ol>\n",
    "<li>Non-Linear (None-Sequential)</li>\n",
    "<ol>\n",
    "<li>Graphs</li>\n",
    "<li>Trees</li>\n",
    "</ol>\n",
    "</ol>"
   ]
  }
 ],
 "metadata": {
  "language_info": {
   "name": "python"
  },
  "orig_nbformat": 4
 },
 "nbformat": 4,
 "nbformat_minor": 2
}
