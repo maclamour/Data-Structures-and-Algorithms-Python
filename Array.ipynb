{
 "cells": [
  {
   "cell_type": "markdown",
   "metadata": {},
   "source": [
    "<strong>Array(called list in Python)</strong>\n",
    "\n",
    "Two type of Arrays:\n",
    "\n",
    "<p>Static- Fixed number of memory slots. Size needs to be declared by user(used more in C, C++, Java)</p>\n",
    "<p>Dynamic - Flexible numbver of memory slots. Size already declared by system (used more in Python or JavaScript)</p>"
   ]
  },
  {
   "cell_type": "markdown",
   "metadata": {},
   "source": [
    "<strong>Common Operations</strong>\n",
    "<ul>\n",
    "<li>Access</li>\n",
    "<li>Search</li>\n",
    "<li>Insert</li>\n",
    "<li>Delete</li>\n",
    "</ul>\n",
    "<hr>\n",
    "\n",
    "<strong>Complexities to Consider </strong>\n",
    "<ul>\n",
    "<li>Average Case</li>\n",
    "<li>Worst Case</li>\n",
    "</ul>"
   ]
  }
 ],
 "metadata": {
  "kernelspec": {
   "display_name": "Python 3.10.6 64-bit",
   "language": "python",
   "name": "python3"
  },
  "language_info": {
   "name": "python",
   "version": "3.10.6"
  },
  "orig_nbformat": 4,
  "vscode": {
   "interpreter": {
    "hash": "aee8b7b246df8f9039afb4144a1f6fd8d2ca17a180786b69acc140d282b71a49"
   }
  }
 },
 "nbformat": 4,
 "nbformat_minor": 2
}
